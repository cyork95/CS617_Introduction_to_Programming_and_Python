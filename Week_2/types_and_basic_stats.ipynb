{
 "cells": [
  {
   "cell_type": "code",
   "execution_count": 1,
   "metadata": {
    "collapsed": true
   },
   "outputs": [
    {
     "name": "stdout",
     "output_type": "stream",
     "text": [
      "<class 'int'>\n",
      "<class 'str'>\n",
      "<class 'int'>\n",
      "<class 'float'>\n",
      "3.5\n",
      "3.0\n"
     ]
    }
   ],
   "source": [
    "print(type(7))\n",
    "\n",
    "print(type(\"Welcome\"))\n",
    "\n",
    "x = 5\n",
    "print(type(x))\n",
    "\n",
    "print(type(2.5))\n"
   ]
  },
  {
   "cell_type": "code",
   "execution_count": null,
   "outputs": [],
   "source": [
    "gpa = float(input(\"Enter your gpa: \"))\n",
    "print(gpa)\n",
    "print(gpa - 0.5)\n",
    "\n",
    "print(min(100, 23, 29, 80, 30))\n",
    "\n",
    "print(max(100, 23, 29, 80, 30))\n",
    "\n",
    "print(max(100, 23, 29, 80, 30) - min(100, 23, 29, 80, 30))"
   ],
   "metadata": {
    "collapsed": false
   }
  }
 ],
 "metadata": {
  "kernelspec": {
   "display_name": "Python 3",
   "language": "python",
   "name": "python3"
  },
  "language_info": {
   "codemirror_mode": {
    "name": "ipython",
    "version": 2
   },
   "file_extension": ".py",
   "mimetype": "text/x-python",
   "name": "python",
   "nbconvert_exporter": "python",
   "pygments_lexer": "ipython2",
   "version": "2.7.6"
  }
 },
 "nbformat": 4,
 "nbformat_minor": 0
}
