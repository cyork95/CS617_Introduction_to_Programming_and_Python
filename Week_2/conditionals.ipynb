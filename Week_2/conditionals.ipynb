{
 "cells": [
  {
   "cell_type": "code",
   "execution_count": 1,
   "metadata": {
    "collapsed": true
   },
   "outputs": [
    {
     "name": "stdout",
     "output_type": "stream",
     "text": [
      "True\n",
      "False\n",
      "True\n",
      "True\n",
      "False\n",
      "True\n",
      "False\n",
      "True\n",
      "False\n",
      "True\n",
      "False\n"
     ]
    }
   ],
   "source": [
    "print(7 > 3)\n",
    "\n",
    "print(7 < 3)\n",
    "\n",
    "print(10 > 5)\n",
    "\n",
    "print(10 == 10)\n",
    "\n",
    "print(10 == 5)\n",
    "\n",
    "print(10 >= 5)\n",
    "\n",
    "print(10 > 10)\n",
    "\n",
    "print(5 <= 5)\n",
    "\n",
    "print(5 < 5)\n",
    "\n",
    "print(10 != 5)\n",
    "\n",
    "print(5 != 5)\n"
   ]
  },
  {
   "cell_type": "code",
   "execution_count": 4,
   "outputs": [
    {
     "name": "stdout",
     "output_type": "stream",
     "text": [
      "Your average is  60\n",
      "Pass\n"
     ]
    }
   ],
   "source": [
    "average = int(input(\"Please enter a student's average score: \"))\n",
    "\n",
    "if average >= 60:\n",
    "    print(\"Your average is \", average)\n",
    "    print(\"Pass\")\n",
    "else:\n",
    "    print(\"Your average is \", average)\n",
    "    print(\"Fail\")"
   ],
   "metadata": {
    "collapsed": false
   }
  },
  {
   "cell_type": "code",
   "execution_count": null,
   "outputs": [],
   "source": [],
   "metadata": {
    "collapsed": false
   }
  }
 ],
 "metadata": {
  "kernelspec": {
   "display_name": "Python 3",
   "language": "python",
   "name": "python3"
  },
  "language_info": {
   "codemirror_mode": {
    "name": "ipython",
    "version": 2
   },
   "file_extension": ".py",
   "mimetype": "text/x-python",
   "name": "python",
   "nbconvert_exporter": "python",
   "pygments_lexer": "ipython2",
   "version": "2.7.6"
  }
 },
 "nbformat": 4,
 "nbformat_minor": 0
}
