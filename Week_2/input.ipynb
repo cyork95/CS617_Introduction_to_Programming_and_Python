{
 "cells": [
  {
   "cell_type": "code",
   "execution_count": 2,
   "metadata": {
    "collapsed": true
   },
   "outputs": [
    {
     "name": "stdout",
     "output_type": "stream",
     "text": [
      "Alice Smith\n"
     ]
    }
   ],
   "source": [
    "name = input(\"Please enter your name: \")\n",
    "print(name)"
   ]
  },
  {
   "cell_type": "code",
   "execution_count": 3,
   "outputs": [
    {
     "name": "stdout",
     "output_type": "stream",
     "text": [
      "35\n",
      "45\n"
     ]
    }
   ],
   "source": [
    "age = int(input(\"Please enter your age: \"))\n",
    "print(age)\n",
    "print(age + 10)"
   ],
   "metadata": {
    "collapsed": false
   }
  },
  {
   "cell_type": "code",
   "execution_count": 4,
   "outputs": [
    {
     "name": "stdout",
     "output_type": "stream",
     "text": [
      "Welcome to Python!\n",
      "Welcome to Python!\n",
      "Welcome 'to' Python!\n",
      "Welcome 'to' Python!\n",
      "The quick brown fox jumped over\n",
      "the fence!\n",
      "The quick brown fox jumped over \n",
      " the fence\n",
      "The \t quick \t brown \t fox\n"
     ]
    }
   ],
   "source": [
    "print('Welcome to Python!')\n",
    "\n",
    "print(\"Welcome to Python!\")\n",
    "\n",
    "print(\"Welcome 'to' Python!\")\n",
    "\n",
    "print('Welcome \\'to\\' Python!')\n",
    "\n",
    "print(\"\"\"The quick brown fox jumped over\n",
    "the fence!\"\"\")\n",
    "\n",
    "print(\"The quick brown fox jumped over \\n the fence\")\n",
    "\n",
    "print(\"The \\t quick \\t brown \\t fox\")"
   ],
   "metadata": {
    "collapsed": false
   }
  },
  {
   "cell_type": "code",
   "execution_count": null,
   "outputs": [],
   "source": [],
   "metadata": {
    "collapsed": false
   }
  }
 ],
 "metadata": {
  "kernelspec": {
   "display_name": "Python 3",
   "language": "python",
   "name": "python3"
  },
  "language_info": {
   "codemirror_mode": {
    "name": "ipython",
    "version": 2
   },
   "file_extension": ".py",
   "mimetype": "text/x-python",
   "name": "python",
   "nbconvert_exporter": "python",
   "pygments_lexer": "ipython2",
   "version": "2.7.6"
  }
 },
 "nbformat": 4,
 "nbformat_minor": 0
}
