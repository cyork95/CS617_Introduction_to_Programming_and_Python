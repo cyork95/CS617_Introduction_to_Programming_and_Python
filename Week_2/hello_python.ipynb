{
 "cells": [
  {
   "cell_type": "code",
   "execution_count": 1,
   "metadata": {
    "collapsed": true
   },
   "outputs": [
    {
     "name": "stdout",
     "output_type": "stream",
     "text": [
      "Hello World\n"
     ]
    }
   ],
   "source": [
    "print(\"Hello World\")"
   ]
  },
  {
   "cell_type": "code",
   "execution_count": 2,
   "outputs": [
    {
     "name": "stdout",
     "output_type": "stream",
     "text": [
      "Hello World\n"
     ]
    }
   ],
   "source": [
    "print('Hello World')"
   ],
   "metadata": {
    "collapsed": false
   }
  },
  {
   "cell_type": "code",
   "execution_count": 1,
   "outputs": [
    {
     "name": "stdout",
     "output_type": "stream",
     "text": [
      "5\n",
      "John Doe\n",
      "3.9\n"
     ]
    }
   ],
   "source": [
    "x = 5\n",
    "name = \"John Doe\"\n",
    "gpa = 3.9\n",
    "\n",
    "print(x)\n",
    "\n",
    "print(name)\n",
    "\n",
    "print(gpa)\n"
   ],
   "metadata": {
    "collapsed": false
   }
  },
  {
   "cell_type": "code",
   "execution_count": 3,
   "outputs": [
    {
     "name": "stdout",
     "output_type": "stream",
     "text": [
      "15\n",
      "8\n",
      "-2\n",
      "1.6666666666666667\n",
      "1\n",
      "2\n",
      "8\n",
      "100000\n",
      "10\n"
     ]
    }
   ],
   "source": [
    "x = 3 * 5\n",
    "print(x)\n",
    "\n",
    "x  = 3 + 5\n",
    "print(x)\n",
    "\n",
    "x = 3 - 5\n",
    "print(x)\n",
    "\n",
    "x = 5 / 3\n",
    "print(x)\n",
    "\n",
    "x = 5 // 3\n",
    "print(x)\n",
    "\n",
    "x = 5 % 3\n",
    "print(x)\n",
    "\n",
    "x = 2 ** 3\n",
    "print(x)\n",
    "\n",
    "x = 10 ** 5\n",
    "print(x)\n",
    "\n",
    "x = 2\n",
    "y = 5\n",
    "z = x * y\n",
    "print(z)\n",
    "\n"
   ],
   "metadata": {
    "collapsed": false
   }
  },
  {
   "cell_type": "code",
   "execution_count": null,
   "outputs": [],
   "source": [
    "\n"
   ],
   "metadata": {
    "collapsed": false
   }
  }
 ],
 "metadata": {
  "kernelspec": {
   "display_name": "Python 3",
   "language": "python",
   "name": "python3"
  },
  "language_info": {
   "codemirror_mode": {
    "name": "ipython",
    "version": 2
   },
   "file_extension": ".py",
   "mimetype": "text/x-python",
   "name": "python",
   "nbconvert_exporter": "python",
   "pygments_lexer": "ipython2",
   "version": "2.7.6"
  }
 },
 "nbformat": 4,
 "nbformat_minor": 0
}
