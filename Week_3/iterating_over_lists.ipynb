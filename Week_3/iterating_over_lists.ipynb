{
 "cells": [
  {
   "cell_type": "code",
   "execution_count": 4,
   "metadata": {
    "collapsed": true
   },
   "outputs": [
    {
     "name": "stdout",
     "output_type": "stream",
     "text": [
      "12\n",
      "82.5\n"
     ]
    }
   ],
   "source": [
    "scores = [90, 92, 100, 82, 70, 100, 92, 87, 60, 65, 97, 55]\n",
    "names = [\"Alice\", \"Bob\", \"Carol\"]\n",
    "print(len(scores))\n",
    "\n",
    "total = 0\n",
    "\n",
    "for s in scores:\n",
    "    total = total + s\n",
    "print(total / len(scores))"
   ]
  },
  {
   "cell_type": "code",
   "execution_count": null,
   "outputs": [],
   "source": [],
   "metadata": {
    "collapsed": false
   }
  }
 ],
 "metadata": {
  "kernelspec": {
   "display_name": "Python 3",
   "language": "python",
   "name": "python3"
  },
  "language_info": {
   "codemirror_mode": {
    "name": "ipython",
    "version": 2
   },
   "file_extension": ".py",
   "mimetype": "text/x-python",
   "name": "python",
   "nbconvert_exporter": "python",
   "pygments_lexer": "ipython2",
   "version": "2.7.6"
  }
 },
 "nbformat": 4,
 "nbformat_minor": 0
}
