{
 "cells": [
  {
   "cell_type": "code",
   "execution_count": 1,
   "metadata": {
    "collapsed": true
   },
   "outputs": [
    {
     "name": "stdout",
     "output_type": "stream",
     "text": [
      "Hello\n"
     ]
    }
   ],
   "source": [
    "p = 2\n",
    "q = 3\n",
    "\n",
    "if p > 0 and q > 0:\n",
    "    print(\"Hello\")\n",
    "else:\n",
    "    print(\"World\")\n",
    "\n",
    "# true and true = true\n",
    "# true and false = false\n",
    "# false and true = false\n",
    "# false and false = false"
   ]
  },
  {
   "cell_type": "code",
   "execution_count": 2,
   "outputs": [
    {
     "name": "stdout",
     "output_type": "stream",
     "text": [
      "Hello\n"
     ]
    }
   ],
   "source": [
    "p = 2\n",
    "q = 3\n",
    "\n",
    "if p > 10 or q > 0:\n",
    "    print(\"Hello\")\n",
    "else:\n",
    "    print(\"World\")\n",
    "\n",
    "# true or true = true\n",
    "# true or false = true\n",
    "# false or true = true\n",
    "# false or false = false"
   ],
   "metadata": {
    "collapsed": false
   }
  },
  {
   "cell_type": "code",
   "execution_count": null,
   "outputs": [],
   "source": [],
   "metadata": {
    "collapsed": false
   }
  }
 ],
 "metadata": {
  "kernelspec": {
   "display_name": "Python 3",
   "language": "python",
   "name": "python3"
  },
  "language_info": {
   "codemirror_mode": {
    "name": "ipython",
    "version": 2
   },
   "file_extension": ".py",
   "mimetype": "text/x-python",
   "name": "python",
   "nbconvert_exporter": "python",
   "pygments_lexer": "ipython2",
   "version": "2.7.6"
  }
 },
 "nbformat": 4,
 "nbformat_minor": 0
}
